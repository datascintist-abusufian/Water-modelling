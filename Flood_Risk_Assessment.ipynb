{
  "nbformat": 4,
  "nbformat_minor": 0,
  "metadata": {
    "colab": {
      "provenance": []
    },
    "kernelspec": {
      "name": "python3",
      "display_name": "Python 3"
    },
    "language_info": {
      "name": "python"
    }
  },
  "cells": [
    {
      "cell_type": "code",
      "execution_count": null,
      "metadata": {
        "id": "h9E0ZiQNzBfp"
      },
      "outputs": [],
      "source": [
        "import numpy as np\n",
        "import matplotlib.pyplot as plt\n",
        "\n",
        "# Flood risk assessment\n",
        "def flood_risk_assessment(water_level, flood_threshold):\n",
        "    return np.where(water_level > flood_threshold, \"High Risk\", \"Low Risk\")\n",
        "\n",
        "# Example data\n",
        "water_level = np.linspace(0, 10, 100)  # Water level (m)\n",
        "flood_threshold = 5  # Flood threshold (m)\n",
        "\n",
        "# Assess flood risk\n",
        "flood_risk = flood_risk_assessment(water_level, flood_threshold)\n",
        "\n",
        "# Plot results\n",
        "plt.plot(water_level, flood_risk, label=\"Flood Risk\")\n",
        "plt.xlabel(\"Water Level (m)\")\n",
        "plt.ylabel(\"Flood Risk\")\n",
        "plt.title(\"Flood Risk Assessment\")\n",
        "plt.legend()\n",
        "plt.show()"
      ]
    }
  ]
}