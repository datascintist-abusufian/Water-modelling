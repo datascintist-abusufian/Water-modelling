{
  "nbformat": 4,
  "nbformat_minor": 0,
  "metadata": {
    "colab": {
      "provenance": []
    },
    "kernelspec": {
      "name": "python3",
      "display_name": "Python 3"
    },
    "language_info": {
      "name": "python"
    }
  },
  "cells": [
    {
      "cell_type": "code",
      "execution_count": null,
      "metadata": {
        "id": "h9E0ZiQNzBfp"
      },
      "outputs": [],
      "source": [
        "import numpy as np\n",
        "import matplotlib.pyplot as plt\n",
        "\n",
        "# Scenario-based simulations\n",
        "def scenario_simulation(flow_velocity, sediment_concentration, k_scenarios):\n",
        "    results = {}\n",
        "    for scenario, k in k_scenarios.items():\n",
        "        results[scenario] = k * flow_velocity * sediment_concentration\n",
        "    return results\n",
        "\n",
        "# Example data\n",
        "flow_velocity = np.linspace(1, 5, 100)\n",
        "sediment_concentration = np.linspace(0.1, 2, 100)\n",
        "k_scenarios = {\"Scenario 1\": 0.5, \"Scenario 2\": 0.7, \"Scenario 3\": 0.9}\n",
        "\n",
        "# Run simulations\n",
        "results = scenario_simulation(flow_velocity, sediment_concentration, k_scenarios)\n",
        "\n",
        "# Plot results\n",
        "for scenario, sediment_transport_rate in results.items():\n",
        "    plt.plot(flow_velocity, sediment_transport_rate, label=scenario)\n",
        "plt.xlabel(\"Flow Velocity (m/s)\")\n",
        "plt.ylabel(\"Sediment Transport Rate (kg/s)\")\n",
        "plt.title(\"Scenario-Based Simulations\")\n",
        "plt.legend()\n",
        "plt.show()"
      ]
    }
  ]
}