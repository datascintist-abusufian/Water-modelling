{
  "nbformat": 4,
  "nbformat_minor": 0,
  "metadata": {
    "colab": {
      "provenance": []
    },
    "kernelspec": {
      "name": "python3",
      "display_name": "Python 3"
    },
    "language_info": {
      "name": "python"
    }
  },
  "cells": [
    {
      "cell_type": "code",
      "execution_count": null,
      "metadata": {
        "id": "h9E0ZiQNzBfp"
      },
      "outputs": [],
      "source": [
        "import numpy as np\n",
        "import matplotlib.pyplot as plt\n",
        "\n",
        "# Morphological changes analysis\n",
        "def morphological_changes_analysis(time, erosion_rate, deposition_rate):\n",
        "    return erosion_rate * time, deposition_rate * time\n",
        "\n",
        "# Example data\n",
        "time = np.linspace(0, 10, 100)  # Time (years)\n",
        "erosion_rate = 0.1  # Erosion rate (m/year)\n",
        "deposition_rate = 0.05  # Deposition rate (m/year)\n",
        "\n",
        "# Calculate erosion and deposition\n",
        "erosion, deposition = morphological_changes_analysis(time, erosion_rate, deposition_rate)\n",
        "\n",
        "# Plot results\n",
        "plt.plot(time, erosion, label=\"Erosion\")\n",
        "plt.plot(time, deposition, label=\"Deposition\")\n",
        "plt.xlabel(\"Time (years)\")\n",
        "plt.ylabel(\"Change in Riverbed (m)\")\n",
        "plt.title(\"Morphological Changes Analysis\")\n",
        "plt.legend()\n",
        "plt.show()"
      ]
    }
  ]
}