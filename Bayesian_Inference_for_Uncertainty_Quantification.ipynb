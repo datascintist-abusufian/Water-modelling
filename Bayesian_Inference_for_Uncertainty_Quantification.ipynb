{
  "nbformat": 4,
  "nbformat_minor": 0,
  "metadata": {
    "colab": {
      "provenance": []
    },
    "kernelspec": {
      "name": "python3",
      "display_name": "Python 3"
    },
    "language_info": {
      "name": "python"
    }
  },
  "cells": [
    {
      "cell_type": "code",
      "execution_count": null,
      "metadata": {
        "id": "h9E0ZiQNzBfp"
      },
      "outputs": [],
      "source": [
        "import numpy as np\n",
        "import pymc as pm\n",
        "import matplotlib.pyplot as plt\n",
        "\n",
        "# Generate synthetic data\n",
        "np.random.seed(42)\n",
        "n_samples = 100\n",
        "flow_velocity = np.random.uniform(1, 5, n_samples)\n",
        "sediment_concentration = np.random.uniform(0.1, 2, n_samples)\n",
        "k_true = 0.5\n",
        "noise = np.random.normal(0, 0.1, n_samples)\n",
        "sediment_transport_rate = k_true * flow_velocity * sediment_concentration + noise\n",
        "\n",
        "# Bayesian model\n",
        "with pm.Model() as bayesian_model:\n",
        "    k = pm.Normal(\"k\", mu=0.5, sigma=0.2)\n",
        "    sediment_rate_obs = pm.Normal(\n",
        "        \"sediment_rate_obs\",\n",
        "        mu=k * flow_velocity * sediment_concentration,\n",
        "        sigma=0.1,\n",
        "        observed=sediment_transport_rate,\n",
        "    )\n",
        "    trace = pm.sample(2000, tune=1000, chains=2)\n",
        "\n",
        "# Plot posterior distribution\n",
        "pm.plot_trace(trace)\n",
        "plt.show()"
      ]
    }
  ]
}